{
 "cells": [
  {
   "cell_type": "code",
   "execution_count": null,
   "metadata": {},
   "outputs": [],
   "source": [
    "import tensorflow as tf\n",
    "from tensorflow import keras\n",
    "import numpy as np\n"
   ]
  },
  {
   "cell_type": "code",
   "execution_count": 25,
   "metadata": {},
   "outputs": [],
   "source": [
    "# Set the path to the folders containing the images\n",
    "# train_dir = './training_data/'\n",
    "train_dir = \"F:\\\\big-data\\\\uni\\\\minor-a-systems\\\\cucumber-dataset-compressed\\\\normal-light\"\n",
    "\n",
    "# Define the image size\n",
    "img_height = 224\n",
    "img_width = 224\n",
    "\n",
    "# Define the batch size\n",
    "batch_size = 32\n",
    "\n",
    "# Define the number of classes\n",
    "num_classes = 2\n"
   ]
  },
  {
   "cell_type": "code",
   "execution_count": 26,
   "metadata": {},
   "outputs": [
    {
     "name": "stdout",
     "output_type": "stream",
     "text": [
      "Found 2043 files belonging to 2 classes.\n",
      "Using 1635 files for training.\n",
      "Using 408 files for validation.\n",
      "Number of batches in training dataset: 52\n",
      "Number of batches in validation dataset: 13\n"
     ]
    }
   ],
   "source": [
    "# Create a training dataset from the images in the training folder\n",
    "(train_ds, validation_ds) = keras.preprocessing.image_dataset_from_directory(\n",
    "    train_dir,\n",
    "    labels='inferred',\n",
    "    label_mode='int',\n",
    "    validation_split=0.2,\n",
    "    subset=\"both\",\n",
    "    seed=123,\n",
    "    image_size=(img_height, img_width),\n",
    "    batch_size=batch_size)\n",
    "\n",
    "# Print the number of batches in the training and validation datasets\n",
    "print(\"Number of batches in training dataset: %d\" %\n",
    "      tf.data.experimental.cardinality(train_ds))\n",
    "print(\"Number of batches in validation dataset: %d\" %\n",
    "      tf.data.experimental.cardinality(validation_ds))\n"
   ]
  },
  {
   "cell_type": "code",
   "execution_count": 27,
   "metadata": {},
   "outputs": [],
   "source": [
    "train_ds\n",
    "classes = train_ds.class_names"
   ]
  },
  {
   "cell_type": "code",
   "execution_count": 29,
   "metadata": {},
   "outputs": [
    {
     "name": "stdout",
     "output_type": "stream",
     "text": [
      "Epoch 1/10\n",
      "52/52 [==============================] - 19s 309ms/step - loss: 0.6782 - accuracy: 0.6336 - val_loss: 0.4649 - val_accuracy: 0.7868\n",
      "Epoch 2/10\n",
      "52/52 [==============================] - 18s 304ms/step - loss: 0.4044 - accuracy: 0.8232 - val_loss: 0.3987 - val_accuracy: 0.8137\n",
      "Epoch 3/10\n",
      "52/52 [==============================] - 19s 327ms/step - loss: 0.3438 - accuracy: 0.8422 - val_loss: 0.4231 - val_accuracy: 0.8064\n",
      "Epoch 4/10\n",
      "52/52 [==============================] - 20s 331ms/step - loss: 0.3173 - accuracy: 0.8618 - val_loss: 0.4430 - val_accuracy: 0.8039\n",
      "Epoch 5/10\n",
      "52/52 [==============================] - 19s 310ms/step - loss: 0.2430 - accuracy: 0.8942 - val_loss: 0.2668 - val_accuracy: 0.8799\n",
      "Epoch 6/10\n",
      "52/52 [==============================] - 18s 305ms/step - loss: 0.1891 - accuracy: 0.9254 - val_loss: 0.3608 - val_accuracy: 0.8480\n",
      "Epoch 7/10\n",
      "52/52 [==============================] - 18s 297ms/step - loss: 0.1865 - accuracy: 0.9346 - val_loss: 0.2683 - val_accuracy: 0.8946\n",
      "Epoch 8/10\n",
      "52/52 [==============================] - 18s 298ms/step - loss: 0.1342 - accuracy: 0.9456 - val_loss: 0.2635 - val_accuracy: 0.8897\n",
      "Epoch 9/10\n",
      "52/52 [==============================] - 18s 301ms/step - loss: 0.1030 - accuracy: 0.9609 - val_loss: 0.1743 - val_accuracy: 0.9216\n",
      "Epoch 10/10\n",
      "52/52 [==============================] - 18s 306ms/step - loss: 0.0592 - accuracy: 0.9786 - val_loss: 0.2302 - val_accuracy: 0.9191\n"
     ]
    }
   ],
   "source": [
    "# Create the model\n",
    "model = keras.Sequential([\n",
    "    keras.layers.experimental.preprocessing.Rescaling(\n",
    "        1./255, input_shape=(img_height, img_width, 3)),\n",
    "    keras.layers.Conv2D(32, 3, activation='relu'),\n",
    "    keras.layers.MaxPooling2D(),\n",
    "    keras.layers.Conv2D(64, 3, activation='relu'),\n",
    "    keras.layers.MaxPooling2D(),\n",
    "    keras.layers.Conv2D(128, 3, activation='relu'),\n",
    "    keras.layers.MaxPooling2D(),\n",
    "    keras.layers.Flatten(),\n",
    "    keras.layers.Dense(128, activation='relu'),\n",
    "    keras.layers.Dense(1, activation='sigmoid')\n",
    "])\n",
    "\n",
    "# Compile the model\n",
    "model.compile(optimizer='adam',\n",
    "              loss=tf.keras.losses.BinaryCrossentropy(),\n",
    "              metrics=['accuracy'])\n",
    "\n",
    "# Fit the model to the training dataset\n",
    "history = model.fit(\n",
    "    train_ds,\n",
    "    validation_data=validation_ds,\n",
    "    batch_size=batch_size,\n",
    "    epochs=10\n",
    ")\n"
   ]
  },
  {
   "cell_type": "code",
   "execution_count": 30,
   "metadata": {},
   "outputs": [],
   "source": [
    "def prediction_to_class(p, classes):\n",
    "    for (i, x) in enumerate(classes):\n",
    "        if p < (i+1) * (1 / len(classes)):\n",
    "            return x;\n",
    "    return classes[-1]"
   ]
  },
  {
   "cell_type": "code",
   "execution_count": 31,
   "metadata": {},
   "outputs": [
    {
     "name": "stdout",
     "output_type": "stream",
     "text": [
      "1/1 [==============================] - 0s 143ms/step\n"
     ]
    },
    {
     "data": {
      "text/plain": [
       "'mini-healthy'"
      ]
     },
     "execution_count": 31,
     "metadata": {},
     "output_type": "execute_result"
    }
   ],
   "source": [
    "test_img_path = './training_data/healthy/1.bmp'\n",
    "\n",
    "# Load a new image\n",
    "new_image = tf.keras.preprocessing.image.load_img(\n",
    "    test_img_path, target_size=(img_height, img_width))\n",
    "\n",
    "# Preprocess the image\n",
    "new_image = tf.keras.preprocessing.image.img_to_array(new_image)\n",
    "new_image = tf.expand_dims(new_image, axis=0)\n",
    "\n",
    "# Make a prediction with the model\n",
    "prediction = model.predict(new_image)\n",
    "prediction = prediction_to_class(prediction, classes)\n",
    "prediction"
   ]
  }
 ],
 "metadata": {
  "kernelspec": {
   "display_name": "Python 3",
   "language": "python",
   "name": "python3"
  },
  "language_info": {
   "codemirror_mode": {
    "name": "ipython",
    "version": 3
   },
   "file_extension": ".py",
   "mimetype": "text/x-python",
   "name": "python",
   "nbconvert_exporter": "python",
   "pygments_lexer": "ipython3",
   "version": "3.9.16"
  },
  "orig_nbformat": 4
 },
 "nbformat": 4,
 "nbformat_minor": 2
}
