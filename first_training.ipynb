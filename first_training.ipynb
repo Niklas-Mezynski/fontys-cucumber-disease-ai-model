{
 "cells": [
  {
   "cell_type": "code",
   "execution_count": 51,
   "metadata": {},
   "outputs": [],
   "source": [
    "import tensorflow as tf\n",
    "from tensorflow import keras\n",
    "import numpy as np\n"
   ]
  },
  {
   "cell_type": "code",
   "execution_count": 44,
   "metadata": {},
   "outputs": [],
   "source": [
    "# Set the path to the folders containing the images\n",
    "train_dir = './training_data/'\n",
    "\n",
    "# Define the image size\n",
    "img_height = 224\n",
    "img_width = 224\n",
    "\n",
    "# Define the batch size\n",
    "batch_size = 4\n",
    "\n",
    "# Define the number of classes\n",
    "num_classes = 2\n"
   ]
  },
  {
   "cell_type": "code",
   "execution_count": 58,
   "metadata": {},
   "outputs": [
    {
     "name": "stdout",
     "output_type": "stream",
     "text": [
      "Found 20 files belonging to 2 classes.\n",
      "Using 16 files for training.\n",
      "Using 4 files for validation.\n",
      "Number of batches in training dataset: 4\n",
      "Number of batches in validation dataset: 1\n"
     ]
    }
   ],
   "source": [
    "# Create a training dataset from the images in the training folder\n",
    "(train_ds, validation_ds) = keras.preprocessing.image_dataset_from_directory(\n",
    "    train_dir,\n",
    "    labels='inferred',\n",
    "    label_mode='int',\n",
    "    validation_split=0.2,\n",
    "    subset=\"both\",\n",
    "    seed=123,\n",
    "    image_size=(img_height, img_width),\n",
    "    batch_size=batch_size)\n",
    "\n",
    "# Print the number of batches in the training and validation datasets\n",
    "print(\"Number of batches in training dataset: %d\" %\n",
    "      tf.data.experimental.cardinality(train_ds))\n",
    "print(\"Number of batches in validation dataset: %d\" %\n",
    "      tf.data.experimental.cardinality(validation_ds))\n"
   ]
  },
  {
   "cell_type": "code",
   "execution_count": 59,
   "metadata": {},
   "outputs": [],
   "source": [
    "train_ds\n",
    "classes = train_ds.class_names"
   ]
  },
  {
   "cell_type": "code",
   "execution_count": 60,
   "metadata": {},
   "outputs": [
    {
     "name": "stdout",
     "output_type": "stream",
     "text": [
      "Epoch 1/10\n",
      "4/4 [==============================] - 2s 287ms/step - loss: 18.5908 - accuracy: 0.5000 - val_loss: 6.2853 - val_accuracy: 0.5000\n",
      "Epoch 2/10\n",
      "4/4 [==============================] - 1s 216ms/step - loss: 3.7846 - accuracy: 0.5000 - val_loss: 1.0542 - val_accuracy: 0.5000\n",
      "Epoch 3/10\n",
      "4/4 [==============================] - 1s 105ms/step - loss: 0.7829 - accuracy: 0.5000 - val_loss: 0.6931 - val_accuracy: 0.5000\n",
      "Epoch 4/10\n",
      "4/4 [==============================] - 1s 96ms/step - loss: 0.6931 - accuracy: 0.5000 - val_loss: 0.6931 - val_accuracy: 0.5000\n",
      "Epoch 5/10\n",
      "4/4 [==============================] - 3s 723ms/step - loss: 0.6932 - accuracy: 0.5000 - val_loss: 0.6931 - val_accuracy: 0.5000\n",
      "Epoch 6/10\n",
      "4/4 [==============================] - 1s 159ms/step - loss: 0.6932 - accuracy: 0.5000 - val_loss: 0.6932 - val_accuracy: 0.5000\n",
      "Epoch 7/10\n",
      "4/4 [==============================] - 2s 103ms/step - loss: 0.6932 - accuracy: 0.5000 - val_loss: 0.6932 - val_accuracy: 0.5000\n",
      "Epoch 8/10\n",
      "4/4 [==============================] - 4s 236ms/step - loss: 0.6932 - accuracy: 0.5000 - val_loss: 0.6932 - val_accuracy: 0.5000\n",
      "Epoch 9/10\n",
      "4/4 [==============================] - 7s 2s/step - loss: 0.6932 - accuracy: 0.5000 - val_loss: 0.6932 - val_accuracy: 0.5000\n",
      "Epoch 10/10\n",
      "4/4 [==============================] - 17s 2s/step - loss: 0.6932 - accuracy: 0.5000 - val_loss: 0.6932 - val_accuracy: 0.5000\n"
     ]
    }
   ],
   "source": [
    "# Create the model\n",
    "model = keras.Sequential([\n",
    "    keras.layers.experimental.preprocessing.Rescaling(\n",
    "        1./255, input_shape=(img_height, img_width, 3)),\n",
    "    keras.layers.Conv2D(filters=32, kernel_size=(3, 3),\n",
    "                  activation='relu'),\n",
    "    keras.layers.MaxPooling2D((2, 2)),\n",
    "    keras.layers.Flatten(),\n",
    "    keras.layers.Dense(16, activation='relu'),\n",
    "    keras.layers.Dense(1, activation='sigmoid')\n",
    "])\n",
    "\n",
    "# Compile the model\n",
    "model.compile(optimizer='adam',\n",
    "              loss=tf.keras.losses.BinaryCrossentropy(),\n",
    "              metrics=['accuracy'])\n",
    "\n",
    "# Fit the model to the training dataset\n",
    "history = model.fit(\n",
    "    train_ds,\n",
    "    validation_data=validation_ds,\n",
    "    batch_size=batch_size,\n",
    "    epochs=10\n",
    ")\n"
   ]
  },
  {
   "cell_type": "code",
   "execution_count": 77,
   "metadata": {},
   "outputs": [],
   "source": [
    "def prediction_to_class(p, classes):\n",
    "    for (i, x) in enumerate(classes):\n",
    "        if p < (i+1) * (1 / len(classes)):\n",
    "            return x;\n",
    "    return classes[-1]"
   ]
  },
  {
   "cell_type": "code",
   "execution_count": 85,
   "metadata": {},
   "outputs": [
    {
     "name": "stdout",
     "output_type": "stream",
     "text": [
      "1/1 [==============================] - 0s 18ms/step\n"
     ]
    },
    {
     "data": {
      "text/plain": [
       "'infected'"
      ]
     },
     "execution_count": 85,
     "metadata": {},
     "output_type": "execute_result"
    }
   ],
   "source": [
    "test_img_path = './training_data/healthy/1.bmp'\n",
    "\n",
    "# Load a new image\n",
    "new_image = tf.keras.preprocessing.image.load_img(\n",
    "    test_img_path, target_size=(img_height, img_width))\n",
    "\n",
    "# Preprocess the image\n",
    "new_image = tf.keras.preprocessing.image.img_to_array(new_image)\n",
    "new_image = tf.expand_dims(new_image, axis=0)\n",
    "\n",
    "# Make a prediction with the model\n",
    "prediction = model.predict(new_image)\n",
    "prediction = prediction_to_class(prediction, classes)\n",
    "prediction"
   ]
  }
 ],
 "metadata": {
  "kernelspec": {
   "display_name": "Python 3",
   "language": "python",
   "name": "python3"
  },
  "language_info": {
   "codemirror_mode": {
    "name": "ipython",
    "version": 3
   },
   "file_extension": ".py",
   "mimetype": "text/x-python",
   "name": "python",
   "nbconvert_exporter": "python",
   "pygments_lexer": "ipython3",
   "version": "3.9.16"
  },
  "orig_nbformat": 4
 },
 "nbformat": 4,
 "nbformat_minor": 2
}
